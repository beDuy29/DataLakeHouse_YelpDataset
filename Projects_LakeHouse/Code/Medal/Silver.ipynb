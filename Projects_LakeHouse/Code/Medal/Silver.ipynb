{
 "cells": [
  {
   "cell_type": "code",
   "execution_count": 1,
   "metadata": {},
   "outputs": [],
   "source": [
    "from pyspark.sql import SparkSession\n",
    "from pyspark.sql.functions import col, explode, monotonically_increasing_id, split, when, lower, trim, udf\n",
    "from pyspark.sql import Row\n",
    "from pyspark.sql import functions as F\n",
    "from minio import Minio\n",
    "import pandas as pd\n",
    "import numpy as np\n",
    "import pyarrow as pa\n",
    "import pyarrow.parquet as pq\n",
    "from pyspark.sql.types import StringType\n",
    "from fuzzywuzzy import fuzz"
   ]
  },
  {
   "cell_type": "code",
   "execution_count": 2,
   "metadata": {},
   "outputs": [],
   "source": [
    "spark = SparkSession.builder \\\n",
    "    .appName(\"Silver\") \\\n",
    "    .master('local[*]') \\\n",
    "    .config(\"spark.driver.maxResultSize\", \"6g\") \\\n",
    "    .config(\"spark.driver.memory\", \"3g\") \\\n",
    "    .config(\"spark.executor.memory\", \"3g\") \\\n",
    "    .config('spark.dynamicAllocation.minExecutors' , '1') \\\n",
    "    .config('spark.dynamicAllocation.maxExecutors' , '2') \\\n",
    "    .config('spark.dynamicAllocation.enabled' , 'true') \\\n",
    "    .config(\"spark.hadoop.fs.s3a.access.key\", 'sJ8IkEjav4gkDwjt2BxK') \\\n",
    "    .config(\"spark.hadoop.fs.s3a.secret.key\", 'atZpF6WhWSD0tH2vSxylDHYpdOWZ11zdnSZ87ca8') \\\n",
    "    .config(\"spark.hadoop.fs.s3a.endpoint\", 'http://127.0.0.1:9000') \\\n",
    "    .config(\"spark.hadoop.fs.s3a.impl\", 'org.apache.hadoop.fs.s3a.S3AFileSystem') \\\n",
    "    .config(\"spark.hadoop.fs.s3a.path.style.access\", 'true') \\\n",
    "    .config(\"spark.sql.extensions\", 'io.delta.sql.DeltaSparkSessionExtension') \\\n",
    "    .config(\"spark.sql.catalog.spark_catalog\", 'org.apache.spark.sql.delta.catalog.DeltaCatalog') \\\n",
    "    .getOrCreate()"
   ]
  },
  {
   "cell_type": "markdown",
   "metadata": {},
   "source": [
    "#### Kết nối local (chỉnh sửa lại kết nối được với MinIO, sao cho lấy được file trong bucket để xử lý)"
   ]
  },
  {
   "cell_type": "code",
   "execution_count": 3,
   "metadata": {},
   "outputs": [],
   "source": [
    "file_path = \"s3a://bronze/business.parquet\"\n",
    "file_path_review = \"s3a://bronze/review.parquet\""
   ]
  },
  {
   "cell_type": "markdown",
   "metadata": {},
   "source": [
    "#### Xử lý bảng Business"
   ]
  },
  {
   "cell_type": "code",
   "execution_count": 4,
   "metadata": {},
   "outputs": [
    {
     "name": "stdout",
     "output_type": "stream",
     "text": [
      "+--------------------+--------------------+--------------------+--------------------+--------------------+------------+--------------------+-------+----------+-----------+--------------------+-----------+------------+-----+-----+\n",
      "|                 _id|             address|          attributes|         business_id|          categories|        city|               hours|is_open|  latitude|  longitude|                name|postal_code|review_count|stars|state|\n",
      "+--------------------+--------------------+--------------------+--------------------+--------------------+------------+--------------------+-------+----------+-----------+--------------------+-----------+------------+-----+-----+\n",
      "|{66c753fcd7db47b0...|87 Grasso Plaza S...|{null, null, null...|mpf3x-BjTdTEA3yCZ...|Shipping Centers,...|      Affton|{8:0-18:30, 0:0-0...|      1| 38.551126| -90.335695|       The UPS Store|      63123|          15|  3.0|   MO|\n",
      "|{66c753fcd7db47b0...|         935 Race St|{null, u'none', n...|MTSW4McQd7CbVtyjq...|Restaurants, Food...|Philadelphia|{7:0-21:0, 7:0-20...|      1|39.9555052|-75.1555641|  St Honore Pastries|      19107|          80|  4.0|   PA|\n",
      "|{66c753fcd7db47b0...|5255 E Broadway Blvd|{null, null, null...|tUFrWirKiKi_TAnsV...|Department Stores...|      Tucson|{8:0-23:0, 8:0-22...|      0| 32.223236|-110.880452|              Target|      85711|          22|  3.5|   AZ|\n",
      "|{66c753fcd7db47b0...|       101 Walnut St|{null, null, null...|mWMc6_wTdE0EUBKIG...|Brewpubs, Breweri...|  Green Lane|{12:0-22:0, null,...|      1|40.3381827|-75.4716585|Perkiomen Valley ...|      18054|          13|  4.5|   PA|\n",
      "|{66c753fcd7db47b0...|8522 Eager Road, ...|{null, null, null...|n_0UpQx1hsNbnPUSl...|Sporting Goods, F...|   Brentwood|{10:0-18:0, 0:0-0...|      1| 38.627695| -90.340465|     Famous Footwear|      63144|          13|  2.5|   MO|\n",
      "+--------------------+--------------------+--------------------+--------------------+--------------------+------------+--------------------+-------+----------+-----------+--------------------+-----------+------------+-----+-----+\n",
      "only showing top 5 rows\n",
      "\n"
     ]
    }
   ],
   "source": [
    "business_raw = spark.read.parquet(file_path)\n",
    "business_raw.show(5)"
   ]
  },
  {
   "cell_type": "code",
   "execution_count": 5,
   "metadata": {},
   "outputs": [
    {
     "name": "stdout",
     "output_type": "stream",
     "text": [
      "root\n",
      " |-- _id: struct (nullable = true)\n",
      " |    |-- oid: string (nullable = true)\n",
      " |-- address: string (nullable = true)\n",
      " |-- attributes: struct (nullable = true)\n",
      " |    |-- AcceptsInsurance: string (nullable = true)\n",
      " |    |-- Alcohol: string (nullable = true)\n",
      " |    |-- Ambience: string (nullable = true)\n",
      " |    |-- BYOB: string (nullable = true)\n",
      " |    |-- BYOBCorkage: string (nullable = true)\n",
      " |    |-- BestNights: string (nullable = true)\n",
      " |    |-- BikeParking: string (nullable = true)\n",
      " |    |-- BusinessAcceptsBitcoin: string (nullable = true)\n",
      " |    |-- BusinessAcceptsCreditCards: string (nullable = true)\n",
      " |    |-- BusinessParking: string (nullable = true)\n",
      " |    |-- ByAppointmentOnly: string (nullable = true)\n",
      " |    |-- Caters: string (nullable = true)\n",
      " |    |-- CoatCheck: string (nullable = true)\n",
      " |    |-- Corkage: string (nullable = true)\n",
      " |    |-- DogsAllowed: string (nullable = true)\n",
      " |    |-- DriveThru: string (nullable = true)\n",
      " |    |-- GoodForDancing: string (nullable = true)\n",
      " |    |-- GoodForKids: string (nullable = true)\n",
      " |    |-- GoodForMeal: string (nullable = true)\n",
      " |    |-- HairSpecializesIn: string (nullable = true)\n",
      " |    |-- HappyHour: string (nullable = true)\n",
      " |    |-- HasTV: string (nullable = true)\n",
      " |    |-- Music: string (nullable = true)\n",
      " |    |-- NoiseLevel: string (nullable = true)\n",
      " |    |-- Open24Hours: string (nullable = true)\n",
      " |    |-- OutdoorSeating: string (nullable = true)\n",
      " |    |-- RestaurantsAttire: string (nullable = true)\n",
      " |    |-- RestaurantsCounterService: string (nullable = true)\n",
      " |    |-- RestaurantsDelivery: string (nullable = true)\n",
      " |    |-- RestaurantsGoodForGroups: string (nullable = true)\n",
      " |    |-- RestaurantsPriceRange2: string (nullable = true)\n",
      " |    |-- RestaurantsReservations: string (nullable = true)\n",
      " |    |-- RestaurantsTableService: string (nullable = true)\n",
      " |    |-- RestaurantsTakeOut: string (nullable = true)\n",
      " |    |-- Smoking: string (nullable = true)\n",
      " |    |-- WheelchairAccessible: string (nullable = true)\n",
      " |    |-- WiFi: string (nullable = true)\n",
      " |-- business_id: string (nullable = true)\n",
      " |-- categories: string (nullable = true)\n",
      " |-- city: string (nullable = true)\n",
      " |-- hours: struct (nullable = true)\n",
      " |    |-- Friday: string (nullable = true)\n",
      " |    |-- Monday: string (nullable = true)\n",
      " |    |-- Saturday: string (nullable = true)\n",
      " |    |-- Sunday: string (nullable = true)\n",
      " |    |-- Thursday: string (nullable = true)\n",
      " |    |-- Tuesday: string (nullable = true)\n",
      " |    |-- Wednesday: string (nullable = true)\n",
      " |-- is_open: integer (nullable = true)\n",
      " |-- latitude: double (nullable = true)\n",
      " |-- longitude: double (nullable = true)\n",
      " |-- name: string (nullable = true)\n",
      " |-- postal_code: string (nullable = true)\n",
      " |-- review_count: integer (nullable = true)\n",
      " |-- stars: double (nullable = true)\n",
      " |-- state: string (nullable = true)\n",
      "\n"
     ]
    }
   ],
   "source": [
    "business_raw.printSchema()"
   ]
  },
  {
   "cell_type": "markdown",
   "metadata": {},
   "source": [
    "#### Tách bảng Business thành các cột riêng biệt"
   ]
  },
  {
   "cell_type": "markdown",
   "metadata": {},
   "source": [
    "##### Bảng đầu tiên: Business"
   ]
  },
  {
   "cell_type": "code",
   "execution_count": 9,
   "metadata": {},
   "outputs": [
    {
     "name": "stdout",
     "output_type": "stream",
     "text": [
      "+--------------------+--------------------+--------------------+------------+-----+-----------+----------+-----------+-----+------------+-------+\n",
      "|         business_id|                name|             address|        city|state|postal_code|  latitude|  longitude|stars|review_count|is_open|\n",
      "+--------------------+--------------------+--------------------+------------+-----+-----------+----------+-----------+-----+------------+-------+\n",
      "|mpf3x-BjTdTEA3yCZ...|       The UPS Store|87 Grasso Plaza S...|      Affton|   MO|      63123| 38.551126| -90.335695|  3.0|          15|      1|\n",
      "|MTSW4McQd7CbVtyjq...|  St Honore Pastries|         935 Race St|Philadelphia|   PA|      19107|39.9555052|-75.1555641|  4.0|          80|      1|\n",
      "|tUFrWirKiKi_TAnsV...|              Target|5255 E Broadway Blvd|      Tucson|   AZ|      85711| 32.223236|-110.880452|  3.5|          22|      0|\n",
      "|mWMc6_wTdE0EUBKIG...|Perkiomen Valley ...|       101 Walnut St|  Green Lane|   PA|      18054|40.3381827|-75.4716585|  4.5|          13|      1|\n",
      "|n_0UpQx1hsNbnPUSl...|     Famous Footwear|8522 Eager Road, ...|   Brentwood|   MO|      63144| 38.627695| -90.340465|  2.5|          13|      1|\n",
      "+--------------------+--------------------+--------------------+------------+-----+-----------+----------+-----------+-----+------------+-------+\n",
      "only showing top 5 rows\n",
      "\n"
     ]
    },
    {
     "data": {
      "text/plain": [
       "150346"
      ]
     },
     "execution_count": 9,
     "metadata": {},
     "output_type": "execute_result"
    }
   ],
   "source": [
    "business_df = business_raw.select(\"business_id\", \"name\", \"address\", \"city\", \"state\", \"postal_code\", \"latitude\", \"longitude\", \"stars\", \"review_count\", \"is_open\")\n",
    "business_df.show(5)\n",
    "\n",
    "business_df.count()"
   ]
  },
  {
   "cell_type": "code",
   "execution_count": 10,
   "metadata": {},
   "outputs": [
    {
     "name": "stdout",
     "output_type": "stream",
     "text": [
      "root\n",
      " |-- business_id: string (nullable = true)\n",
      " |-- name: string (nullable = true)\n",
      " |-- address: string (nullable = true)\n",
      " |-- city: string (nullable = true)\n",
      " |-- state: string (nullable = true)\n",
      " |-- postal_code: string (nullable = true)\n",
      " |-- latitude: double (nullable = true)\n",
      " |-- longitude: double (nullable = true)\n",
      " |-- stars: double (nullable = true)\n",
      " |-- review_count: integer (nullable = true)\n",
      " |-- is_open: integer (nullable = true)\n",
      "\n"
     ]
    }
   ],
   "source": [
    "business_df.printSchema()"
   ]
  },
  {
   "cell_type": "code",
   "execution_count": 14,
   "metadata": {},
   "outputs": [
    {
     "name": "stdout",
     "output_type": "stream",
     "text": [
      "+--------------------+--------------------+--------------------+--------------+-----+-----------+-------------+---------------+-----+------------+-------+\n",
      "|         business_id|                name|             address|          city|state|postal_code|     latitude|      longitude|stars|review_count|is_open|\n",
      "+--------------------+--------------------+--------------------+--------------+-----+-----------+-------------+---------------+-----+------------+-------+\n",
      "|mpf3x-BjTdTEA3yCZ...|       The UPS Store|87 Grasso Plaza S...|        Affton|   MO|      63123|    38.551126|     -90.335695|  3.0|          15|      1|\n",
      "|MTSW4McQd7CbVtyjq...|  St Honore Pastries|         935 Race St|  Philadelphia|   PA|      19107|   39.9555052|    -75.1555641|  4.0|          80|      1|\n",
      "|tUFrWirKiKi_TAnsV...|              Target|5255 E Broadway Blvd|        Tucson|   AZ|      85711|    32.223236|    -110.880452|  3.5|          22|      0|\n",
      "|mWMc6_wTdE0EUBKIG...|Perkiomen Valley ...|       101 Walnut St|    Green Lane|   PA|      18054|   40.3381827|    -75.4716585|  4.5|          13|      1|\n",
      "|n_0UpQx1hsNbnPUSl...|     Famous Footwear|8522 Eager Road, ...|     Brentwood|   MO|      63144|    38.627695|     -90.340465|  2.5|          13|      1|\n",
      "|Pns2l4eNsfO8kk83d...|Abby Rappoport, L...|1616 Chapala St, ...| Santa Barbara|   CA|      93101|   34.4266787|   -119.7111968|  5.0|           7|      0|\n",
      "|qkRM_2X51Yqxk3btl...|      Temple Beth-El|  400 Pasadena Ave S|St. Petersburg|   FL|      33707|     27.76659|     -82.732983|  3.5|           5|      1|\n",
      "|8wGISYjYkE2tSqn3c...|    Nifty Car Rental|     1241 Airline Dr|        Kenner|   LA|      70062|    29.981183|    -90.2540123|  3.5|          14|      1|\n",
      "|bBDDEgkFA1Otx9Lfe...|      Sonic Drive-In| 2312 Dickerson Pike|     Nashville|   TN|      37207|   36.2081024|    -86.7681696|  1.5|          10|      1|\n",
      "|M0XSSHqrASOnhgbWD...|      Herb Import Co|        712 Adams St|   New Orleans|   LA|      70118|29.9414679565|  -90.129952757|  4.0|           5|      1|\n",
      "|ROeacJQwBeh05Rqg7...|                 BAP|       1224 South St|  Philadelphia|   PA|      19147|    39.943223|     -75.162568|  4.5|         205|      1|\n",
      "|qhDdDeI3K4jy2Kyzw...|Barnes & Noble Bo...|8675 River Crossi...|  Indianapolis|   IN|      46240|     39.91382|     -86.105739|  4.0|          38|      1|\n",
      "|rBmpy_Y1UbBx8ggHl...|Arizona Truck Out...|     625 N Stone Ave|        Tucson|   AZ|      85705|   32.2298719|   -110.9723419|  4.5|          10|      1|\n",
      "|WKMJwqnfZKsAae75R...|Roast Coffeehouse...| 10359 104 Street NW|      Edmonton|   AB|    T5J 1B9|   53.5460453|   -113.4991693|  4.0|          40|      0|\n",
      "|kfNv-JZpuN6TVNSO6...|     Hibachi Express|      6625 E 82nd St|  Indianapolis|   IN|      46250|39.9043203184|    -86.0530799|  4.0|          20|      1|\n",
      "|k0hlBqXX-Bt0vf1op...|Tsevi's Pub And G...|   8025 Mackenzie Rd|        Affton|   MO|      63123|   38.5651648|    -90.3210868|  3.0|          19|      0|\n",
      "|PSo_C1Sfa13JHjzVN...|Indian Walk Veter...|       662 Durham Rd|       Newtown|   PA|      18940|   40.2734926|     -74.987496|  5.0|          15|      1|\n",
      "|9OG5YkX1g2GReZM0A...|Romano's Macaroni...|  5505 S Virginia St|          Reno|   NV|      89502|   39.4761165|   -119.7893392|  2.5|         339|      1|\n",
      "|noByYNtDLQAra9ccq...|                 H&M|    827-833 State St| Santa Barbara|   CA|      93101|34.4202089255|-119.7004597389|  3.0|          24|      1|\n",
      "|4iRzR7OaS-QaSXuvY...|           Super Dog|1160 Gallatin Pike S|     Nashville|   TN|      37115|   36.2485696|    -86.7199857|  4.0|           6|      0|\n",
      "+--------------------+--------------------+--------------------+--------------+-----+-----------+-------------+---------------+-----+------------+-------+\n",
      "only showing top 20 rows\n",
      "\n"
     ]
    }
   ],
   "source": [
    "# Biến toàn cục để lưu các thành phố đã chuẩn hóa\n",
    "unique_cities = []\n",
    "\n",
    "# Hàm chuẩn hóa tên thành phố dựa trên Fuzzy Matching\n",
    "def fuzzy_match(city, threshold=85):\n",
    "    global unique_cities\n",
    "    for uc in unique_cities:\n",
    "        if fuzz.ratio(city.lower(), uc.lower()) >= threshold:\n",
    "            return uc\n",
    "    unique_cities.append(city)\n",
    "    return city\n",
    "\n",
    "# Định nghĩa UDF\n",
    "fuzzy_match_udf = udf(lambda city: fuzzy_match(city), StringType())\n",
    "\n",
    "# Áp dụng UDF để chuẩn hóa tên thành phố\n",
    "business_df_normalized = business_df.withColumn(\"city\", fuzzy_match_udf(col(\"city\")))\n",
    "\n",
    "business_df_normalized.show()"
   ]
  },
  {
   "cell_type": "code",
   "execution_count": 15,
   "metadata": {},
   "outputs": [],
   "source": [
    "business_df_normalized.write.format(\"delta\").mode(\"overwrite\").save(\"s3a://silver/business\")"
   ]
  },
  {
   "cell_type": "markdown",
   "metadata": {},
   "source": [
    "#### Xử lý cột Attributes"
   ]
  },
  {
   "cell_type": "markdown",
   "metadata": {},
   "source": [
    "##### Bảng thứ 2: Business_Attributes"
   ]
  },
  {
   "cell_type": "code",
   "execution_count": 9,
   "metadata": {},
   "outputs": [
    {
     "name": "stdout",
     "output_type": "stream",
     "text": [
      "+--------------------+------------+\n",
      "|         business_id|attribute_id|\n",
      "+--------------------+------------+\n",
      "|mpf3x-BjTdTEA3yCZ...|           8|\n",
      "|MTSW4McQd7CbVtyjq...|           1|\n",
      "|MTSW4McQd7CbVtyjq...|           6|\n",
      "|MTSW4McQd7CbVtyjq...|           8|\n",
      "|MTSW4McQd7CbVtyjq...|           9|\n",
      "+--------------------+------------+\n",
      "only showing top 5 rows\n",
      "\n"
     ]
    }
   ],
   "source": [
    "# Lấy các cột từ attributes và business_id\n",
    "business_attributes = business_raw.select(\n",
    "    F.col(\"business_id\"),\n",
    "    *[F.col(f\"attributes.{attr}\").alias(attr) for attr in business_raw.select(\"attributes.*\").columns]\n",
    ")\n",
    "\n",
    "# Tạo biểu thức stack động cho tất cả các cột attribute\n",
    "stack_expr = f\"stack({len(business_attributes.columns) - 1}, \" + \", \".join(\n",
    "    [f\"'{i}', {col}\" for i, col in enumerate(business_attributes.columns[1:]) if col is not None]\n",
    ") + \") as (attribute_id, value)\"\n",
    "\n",
    "# Chuyển đổi DataFrame sử dụng biểu thức stack\n",
    "business_attributes_convert = (\n",
    "    business_attributes\n",
    "    .selectExpr(\"business_id\", stack_expr)\n",
    "    .filter(F.col(\"value\").isNotNull())  # Lọc bỏ các dòng có giá trị null trong cột value\n",
    "    .select(\"business_id\", F.col(\"attribute_id\").cast(\"long\"))  # Chuyển đổi attribute_id sang kiểu long\n",
    ")\n",
    "\n",
    "# Hiển thị DataFrame đã chuyển đổi\n",
    "business_attributes_convert.show(5)"
   ]
  },
  {
   "cell_type": "code",
   "execution_count": 10,
   "metadata": {},
   "outputs": [
    {
     "name": "stdout",
     "output_type": "stream",
     "text": [
      "root\n",
      " |-- business_id: string (nullable = true)\n",
      " |-- attribute_id: long (nullable = true)\n",
      "\n"
     ]
    }
   ],
   "source": [
    "business_attributes_convert.printSchema()"
   ]
  },
  {
   "cell_type": "code",
   "execution_count": 11,
   "metadata": {},
   "outputs": [],
   "source": [
    "business_attributes_convert.write.format(\"delta\").mode(\"overwrite\").save(\"s3a://silver/business_attributes\")"
   ]
  },
  {
   "cell_type": "markdown",
   "metadata": {},
   "source": [
    "##### Bảng thứ 3: Attributes"
   ]
  },
  {
   "cell_type": "code",
   "execution_count": 12,
   "metadata": {},
   "outputs": [
    {
     "name": "stdout",
     "output_type": "stream",
     "text": [
      "+------------+--------------------+\n",
      "|attribute_id|      attribute_name|\n",
      "+------------+--------------------+\n",
      "|           0|    AcceptsInsurance|\n",
      "|           1|             Alcohol|\n",
      "|           2|            Ambience|\n",
      "|           3|                BYOB|\n",
      "|           4|         BYOBCorkage|\n",
      "|           5|          BestNights|\n",
      "|           6|         BikeParking|\n",
      "|           7|BusinessAcceptsBi...|\n",
      "|           8|BusinessAcceptsCr...|\n",
      "|           9|     BusinessParking|\n",
      "+------------+--------------------+\n",
      "only showing top 10 rows\n",
      "\n"
     ]
    }
   ],
   "source": [
    "attribute_names = business_raw.select(\"attributes.*\").columns\n",
    "\n",
    "# Tạo DataFrame Spark với các cột `id` và `name`\n",
    "attributes_name = spark.createDataFrame([Row(attribute_id=i, attribute_name=name) for i, name in enumerate(attribute_names)])\n",
    "\n",
    "# Hiển thị DataFrame `attributes_name`\n",
    "attributes_name.show(10)"
   ]
  },
  {
   "cell_type": "code",
   "execution_count": 13,
   "metadata": {},
   "outputs": [
    {
     "name": "stdout",
     "output_type": "stream",
     "text": [
      "root\n",
      " |-- attribute_id: long (nullable = true)\n",
      " |-- attribute_name: string (nullable = true)\n",
      "\n"
     ]
    }
   ],
   "source": [
    "attributes_name.printSchema()"
   ]
  },
  {
   "cell_type": "code",
   "execution_count": 14,
   "metadata": {},
   "outputs": [],
   "source": [
    "attributes_name.write.format(\"delta\").mode(\"overwrite\").save(\"s3a://silver/attributes\")"
   ]
  },
  {
   "cell_type": "markdown",
   "metadata": {},
   "source": [
    "#### Xử lý cột Hours"
   ]
  },
  {
   "cell_type": "markdown",
   "metadata": {},
   "source": [
    "##### Bảng thứ 4: Business_Work_Hours"
   ]
  },
  {
   "cell_type": "code",
   "execution_count": 15,
   "metadata": {},
   "outputs": [
    {
     "name": "stdout",
     "output_type": "stream",
     "text": [
      "+--------------------+------+----------+-----------+\n",
      "|         business_id|day_id|open_hours|close_hours|\n",
      "+--------------------+------+----------+-----------+\n",
      "|ROeacJQwBeh05Rqg7...|Monday|     11:30|      20:30|\n",
      "|UJsufbvfyfONHeWdv...|Monday|      9:30|      21:30|\n",
      "|qhDdDeI3K4jy2Kyzw...|Monday|      10:0|       21:0|\n",
      "|tUFrWirKiKi_TAnsV...|Monday|       8:0|       22:0|\n",
      "|WKMJwqnfZKsAae75R...|Monday|       8:0|       18:0|\n",
      "|qkRM_2X51Yqxk3btl...|Monday|       9:0|       17:0|\n",
      "|kfNv-JZpuN6TVNSO6...|Monday|      11:0|       21:0|\n",
      "|9OG5YkX1g2GReZM0A...|Monday|      11:0|       22:0|\n",
      "|noByYNtDLQAra9ccq...|Monday|      11:0|       18:0|\n",
      "|MTSW4McQd7CbVtyjq...|Monday|       7:0|       20:0|\n",
      "+--------------------+------+----------+-----------+\n",
      "only showing top 10 rows\n",
      "\n"
     ]
    }
   ],
   "source": [
    "business_hours = business_raw.select(\n",
    "    col(\"business_id\"),\n",
    "    col(\"hours.*\")\n",
    ")\n",
    "\n",
    "stack_expr = \"stack({}, {}) as (day_id, open_hours)\".format(\n",
    "    len(business_hours.columns[1:]),\n",
    "    \", \".join([\"'{}', {}\".format(day, day) for day in business_hours.columns[1:]])\n",
    ")\n",
    "\n",
    "business_hours = business_hours.selectExpr(\"business_id\", stack_expr)\n",
    "\n",
    "business_hours = business_hours.na.drop(subset=\"open_hours\").filter(\"open_hours != '0:0'\")\n",
    "\n",
    "business_hours_split = business_hours.withColumn(\"open_close\", split(col(\"open_hours\"), \"-\"))\n",
    "business_hours = business_hours_split.withColumn(\"open_hours\", col(\"open_close\").getItem(0)) \\\n",
    "                                       .withColumn(\"close_hours\", col(\"open_close\").getItem(1))\n",
    "\n",
    "business_hours = business_hours.drop(\"open_close\")\n",
    "\n",
    "business_hours = business_hours.filter(~((col(\"open_hours\") == \"0:0\") | (col(\"close_hours\") == \"0:0\")))\n",
    "\n",
    "day_order = when(col(\"day_id\") == \"Monday\", 1) \\\n",
    "            .when(col(\"day_id\") == \"Tuesday\", 2) \\\n",
    "            .when(col(\"day_id\") == \"Wednesday\", 3) \\\n",
    "            .when(col(\"day_id\") == \"Thursday\", 4) \\\n",
    "            .when(col(\"day_id\") == \"Friday\", 5) \\\n",
    "            .otherwise(6)  \n",
    "\n",
    "business_hours = business_hours.withColumn(\"day_order\", day_order)\n",
    "\n",
    "business_hours = business_hours.orderBy(\"day_order\").drop(\"day_order\")\n",
    "\n",
    "business_hours.show(10)"
   ]
  },
  {
   "cell_type": "code",
   "execution_count": 16,
   "metadata": {},
   "outputs": [
    {
     "name": "stdout",
     "output_type": "stream",
     "text": [
      "root\n",
      " |-- business_id: string (nullable = true)\n",
      " |-- day_id: string (nullable = true)\n",
      " |-- open_hours: string (nullable = true)\n",
      " |-- close_hours: string (nullable = true)\n",
      "\n"
     ]
    }
   ],
   "source": [
    "business_hours.printSchema()"
   ]
  },
  {
   "cell_type": "code",
   "execution_count": 17,
   "metadata": {},
   "outputs": [],
   "source": [
    "business_hours.write.format(\"delta\").mode(\"overwrite\").save(\"s3a://silver/business_work_hours\")"
   ]
  },
  {
   "cell_type": "markdown",
   "metadata": {},
   "source": [
    "#### Xử lý cột Categories"
   ]
  },
  {
   "cell_type": "markdown",
   "metadata": {},
   "source": [
    "##### Bảng thứ 5: Business_Categories"
   ]
  },
  {
   "cell_type": "code",
   "execution_count": 18,
   "metadata": {},
   "outputs": [
    {
     "name": "stdout",
     "output_type": "stream",
     "text": [
      "+--------------------+-----------+\n",
      "|         business_id|category_id|\n",
      "+--------------------+-----------+\n",
      "|aPNXGTDkf-4bjhyMB...|       1816|\n",
      "|JX4tUpd09YFchLBuI...|       1348|\n",
      "|Hwt3_mOEmU-t--ywc...|       1211|\n",
      "|Hwt3_mOEmU-t--ywc...|       2146|\n",
      "|pEm4xNCk8d0TF6A1g...|        778|\n",
      "|P8brGDYVWjeW9GrKi...|       1474|\n",
      "|SZU9c8V2GuREDN5Kg...|        604|\n",
      "|Ucl9Vo5lwrUmYbV8D...|       1226|\n",
      "|1E9o1SNo7UTf1XHTF...|       1617|\n",
      "|cSigjSbOfHR_mHGTC...|       1438|\n",
      "+--------------------+-----------+\n",
      "only showing top 10 rows\n",
      "\n"
     ]
    }
   ],
   "source": [
    "business_categories = business_raw.select(\n",
    "    col(\"business_id\"),\n",
    "    col(\"categories\")\n",
    ").filter(col(\"categories\").isNotNull() & (col(\"categories\") != \"\"))\n",
    "\n",
    "# Remove spaces and convert to lower case\n",
    "business_categories = business_categories.withColumn(\"categories\", lower(trim(col(\"categories\"))))\n",
    "\n",
    "# Split the categories within each row\n",
    "business_categories = business_categories.withColumn(\"category_list\", split(col(\"categories\"), \",\"))\n",
    "\n",
    "# Explode the categories into separate individual rows\n",
    "business_categories = business_categories.select(\n",
    "    col(\"business_id\"),\n",
    "    explode(col(\"category_list\")).alias(\"category\")\n",
    ")\n",
    "\n",
    "# Drop duplicates\n",
    "business_categories = business_categories.dropDuplicates()\n",
    "\n",
    "# Create unique categories DataFrame and assign category_id\n",
    "category_name = business_categories.select(\"category\").distinct() \\\n",
    "    .withColumn(\"category_id\", monotonically_increasing_id())\n",
    "\n",
    "# Sort category_name by category_id and then by category name\n",
    "category_name = category_name.orderBy(col(\"category_id\").asc(), col(\"category\").asc())\n",
    "\n",
    "# Select category_id and category in the desired order\n",
    "category_name = category_name.select(\"category_id\", \"category\")\n",
    "\n",
    "# Join to get business_categories_result\n",
    "business_categories_result = business_categories.join(category_name, on=\"category\", how=\"inner\") \\\n",
    "    .select(\"business_id\", \"category_id\")\n",
    "\n",
    "# Show the results\n",
    "business_categories_result.show(10)"
   ]
  },
  {
   "cell_type": "code",
   "execution_count": 19,
   "metadata": {},
   "outputs": [
    {
     "name": "stdout",
     "output_type": "stream",
     "text": [
      "root\n",
      " |-- business_id: string (nullable = true)\n",
      " |-- category_id: long (nullable = false)\n",
      "\n"
     ]
    }
   ],
   "source": [
    "business_categories_result.printSchema()"
   ]
  },
  {
   "cell_type": "code",
   "execution_count": 20,
   "metadata": {},
   "outputs": [],
   "source": [
    "business_categories_result.write.format(\"delta\").mode(\"overwrite\").save(\"s3a://silver/business_category\")"
   ]
  },
  {
   "cell_type": "markdown",
   "metadata": {},
   "source": [
    "##### Bảng thứ 6: Categories"
   ]
  },
  {
   "cell_type": "code",
   "execution_count": 21,
   "metadata": {},
   "outputs": [
    {
     "name": "stdout",
     "output_type": "stream",
     "text": [
      "+-----------+--------------------+\n",
      "|category_id|            category|\n",
      "+-----------+--------------------+\n",
      "|          0|    shipping centers|\n",
      "|          1|event planning & ...|\n",
      "|          2|            painters|\n",
      "|          3|         art classes|\n",
      "|          4| carpet installation|\n",
      "|          5|             jewelry|\n",
      "|          6|      acne treatment|\n",
      "|          7|            notaries|\n",
      "|          8|            climbing|\n",
      "|          9|        post offices|\n",
      "+-----------+--------------------+\n",
      "only showing top 10 rows\n",
      "\n"
     ]
    }
   ],
   "source": [
    "category_name.show(10)"
   ]
  },
  {
   "cell_type": "code",
   "execution_count": 22,
   "metadata": {},
   "outputs": [
    {
     "name": "stdout",
     "output_type": "stream",
     "text": [
      "root\n",
      " |-- category_id: long (nullable = false)\n",
      " |-- category: string (nullable = false)\n",
      "\n"
     ]
    }
   ],
   "source": [
    "category_name.printSchema()"
   ]
  },
  {
   "cell_type": "code",
   "execution_count": 23,
   "metadata": {},
   "outputs": [],
   "source": [
    "category_name.write.format(\"delta\").mode(\"overwrite\").save(\"s3a://silver/category\")"
   ]
  },
  {
   "cell_type": "markdown",
   "metadata": {},
   "source": [
    "#### Xử lý bảng Reviews"
   ]
  },
  {
   "cell_type": "markdown",
   "metadata": {},
   "source": [
    "##### Bảng thứ 7: Reviews"
   ]
  },
  {
   "cell_type": "code",
   "execution_count": 5,
   "metadata": {},
   "outputs": [
    {
     "name": "stdout",
     "output_type": "stream",
     "text": [
      "+--------------------+--------------------+----+-------------------+-----+--------------------+-----+--------------------+------+--------------------+\n",
      "|                 _id|         business_id|cool|               date|funny|           review_id|stars|                text|useful|             user_id|\n",
      "+--------------------+--------------------+----+-------------------+-----+--------------------+-----+--------------------+------+--------------------+\n",
      "|{66c75476b97ce792...|kxX2SOes4o-D3ZQBk...|   1|2015-01-04 00:01:03|    0|AqPFMleE6RsU23_au...|  5.0|Wow!  Yummy, diff...|     1|_7bHUi9Uuf5__HHc_...|\n",
      "|{66c75476b97ce792...|XQfwVwDr-v0ZS3_Cb...|   0|2018-07-07 22:09:11|    0|KU_O5udG6zpxOg-Vc...|  3.0|If you decide to ...|     0|mh_-eMZ6K5RLWhZyI...|\n",
      "|{66c75476b97ce792...|YjUWPpI6HXG530lwP...|   0|2014-02-05 20:30:30|    0|saUsX_uimxRlCVr67...|  3.0|Family diner. Had...|     0|8g_iMtfSiwikVnbP2...|\n",
      "|{66c75476b97ce792...|7ATYjTIgM3jUlt4UM...|   1|2012-01-03 15:28:18|    0|BiTunyQ73aT9WBnpR...|  5.0|I've taken a lot ...|     1|OyoGAe7OKpv6SyGZT...|\n",
      "|{66c75476b97ce792...|e4Vwtrqf-wpJfwesg...|   1|2017-01-14 20:54:15|    0|Sx8TMOWLNuJBWer-0...|  4.0|Cute interior and...|     1|bcjbaE6dDog4jkNY9...|\n",
      "+--------------------+--------------------+----+-------------------+-----+--------------------+-----+--------------------+------+--------------------+\n",
      "only showing top 5 rows\n",
      "\n"
     ]
    }
   ],
   "source": [
    "review_raw = spark.read.parquet(file_path_review)\n",
    "review_raw.show(5)"
   ]
  },
  {
   "cell_type": "code",
   "execution_count": 6,
   "metadata": {},
   "outputs": [
    {
     "name": "stdout",
     "output_type": "stream",
     "text": [
      "root\n",
      " |-- _id: struct (nullable = true)\n",
      " |    |-- oid: string (nullable = true)\n",
      " |-- business_id: string (nullable = true)\n",
      " |-- cool: integer (nullable = true)\n",
      " |-- date: string (nullable = true)\n",
      " |-- funny: integer (nullable = true)\n",
      " |-- review_id: string (nullable = true)\n",
      " |-- stars: double (nullable = true)\n",
      " |-- text: string (nullable = true)\n",
      " |-- useful: integer (nullable = true)\n",
      " |-- user_id: string (nullable = true)\n",
      "\n"
     ]
    }
   ],
   "source": [
    "review_raw.printSchema()"
   ]
  },
  {
   "cell_type": "code",
   "execution_count": 7,
   "metadata": {},
   "outputs": [
    {
     "name": "stdout",
     "output_type": "stream",
     "text": [
      "+--------------------+--------------------+--------------------+-----+------+-----+----+--------------------+-------------------+\n",
      "|           review_id|             user_id|         business_id|stars|useful|funny|cool|                text|               date|\n",
      "+--------------------+--------------------+--------------------+-----+------+-----+----+--------------------+-------------------+\n",
      "|AqPFMleE6RsU23_au...|_7bHUi9Uuf5__HHc_...|kxX2SOes4o-D3ZQBk...|  5.0|     1|    0|   1|Wow!  Yummy, diff...|2015-01-04 00:01:03|\n",
      "|KU_O5udG6zpxOg-Vc...|mh_-eMZ6K5RLWhZyI...|XQfwVwDr-v0ZS3_Cb...|  3.0|     0|    0|   0|If you decide to ...|2018-07-07 22:09:11|\n",
      "|saUsX_uimxRlCVr67...|8g_iMtfSiwikVnbP2...|YjUWPpI6HXG530lwP...|  3.0|     0|    0|   0|Family diner. Had...|2014-02-05 20:30:30|\n",
      "|BiTunyQ73aT9WBnpR...|OyoGAe7OKpv6SyGZT...|7ATYjTIgM3jUlt4UM...|  5.0|     1|    0|   1|I've taken a lot ...|2012-01-03 15:28:18|\n",
      "|Sx8TMOWLNuJBWer-0...|bcjbaE6dDog4jkNY9...|e4Vwtrqf-wpJfwesg...|  4.0|     1|    0|   1|Cute interior and...|2017-01-14 20:54:15|\n",
      "+--------------------+--------------------+--------------------+-----+------+-----+----+--------------------+-------------------+\n",
      "only showing top 5 rows\n",
      "\n"
     ]
    }
   ],
   "source": [
    "review_df = review_raw.select(\"review_id\", \"user_id\", \"business_id\", \"stars\", \"useful\", \"funny\", \"cool\", \"text\", \"date\")\n",
    "\n",
    "review_df.show(5)\n"
   ]
  },
  {
   "cell_type": "code",
   "execution_count": 8,
   "metadata": {},
   "outputs": [
    {
     "name": "stdout",
     "output_type": "stream",
     "text": [
      "root\n",
      " |-- review_id: string (nullable = true)\n",
      " |-- user_id: string (nullable = true)\n",
      " |-- business_id: string (nullable = true)\n",
      " |-- stars: double (nullable = true)\n",
      " |-- useful: integer (nullable = true)\n",
      " |-- funny: integer (nullable = true)\n",
      " |-- cool: integer (nullable = true)\n",
      " |-- text: string (nullable = true)\n",
      " |-- date: string (nullable = true)\n",
      "\n"
     ]
    }
   ],
   "source": [
    "review_df.printSchema()"
   ]
  },
  {
   "cell_type": "code",
   "execution_count": 9,
   "metadata": {},
   "outputs": [],
   "source": [
    "review_df.write.format(\"delta\").mode(\"overwrite\").save(\"s3a://silver/reviews\")"
   ]
  },
  {
   "cell_type": "code",
   "execution_count": 10,
   "metadata": {},
   "outputs": [],
   "source": [
    "spark.stop()"
   ]
  }
 ],
 "metadata": {
  "kernelspec": {
   "display_name": "Python 3",
   "language": "python",
   "name": "python3"
  },
  "language_info": {
   "codemirror_mode": {
    "name": "ipython",
    "version": 3
   },
   "file_extension": ".py",
   "mimetype": "text/x-python",
   "name": "python",
   "nbconvert_exporter": "python",
   "pygments_lexer": "ipython3",
   "version": "3.11.6"
  }
 },
 "nbformat": 4,
 "nbformat_minor": 2
}
